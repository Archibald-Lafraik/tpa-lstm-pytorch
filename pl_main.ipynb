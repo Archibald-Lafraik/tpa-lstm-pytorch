{
 "cells": [
  {
   "cell_type": "code",
   "execution_count": null,
   "metadata": {},
   "outputs": [],
   "source": [
    "%load_ext autoreload\n",
    "%autoreload 2\n",
    "\n",
    "import numpy as np\n",
    "import lightning.pytorch as pl\n",
    "from lightning.pytorch.loggers import WandbLogger\n",
    "\n",
    "from model import TPALSTM\n",
    "from other_models import LSTM\n",
    "import pandas as pd\n",
    "from dataset import ElectricityDataModule"
   ]
  },
  {
   "cell_type": "code",
   "execution_count": null,
   "metadata": {},
   "outputs": [],
   "source": [
    "data_df = np.load('data/kbest_dataset.npy')\n",
    "data_df.shape"
   ]
  },
  {
   "cell_type": "code",
   "execution_count": null,
   "metadata": {},
   "outputs": [],
   "source": [
    "data_splits = {\n",
    "    \"train\": 0.7,\n",
    "    \"val\": 0.15,\n",
    "    \"predict\": 0.15\n",
    "}\n",
    "\n",
    "elec_dm = ElectricityDataModule(\n",
    "    dataset_splits=data_splits,\n",
    "    batch_size=256,\n",
    "    window_size=24,\n",
    "    pred_horizon=5,\n",
    "    data_style=\"kbest\"\n",
    ")"
   ]
  },
  {
   "cell_type": "code",
   "execution_count": null,
   "metadata": {},
   "outputs": [],
   "source": [
    "run_name = \"5ts-kbest\""
   ]
  },
  {
   "cell_type": "markdown",
   "metadata": {},
   "source": [
    "**LSTM**"
   ]
  },
  {
   "cell_type": "code",
   "execution_count": null,
   "metadata": {},
   "outputs": [],
   "source": [
    "wandb_logger_lstm = WandbLogger(\n",
    "    name=f'{run_name}-LSTM',\n",
    "    save_dir='logs',\n",
    "    project='Time-Series project',\n",
    "    log_model=True\n",
    ")\n",
    "\n",
    "lstm_trainer = pl.Trainer(\n",
    "    max_epochs=80,\n",
    "    # accelerator='gpu',\n",
    "    strategy='auto',\n",
    "    devices=1,\n",
    "    logger=wandb_logger_lstm\n",
    ")"
   ]
  },
  {
   "cell_type": "code",
   "execution_count": null,
   "metadata": {},
   "outputs": [],
   "source": [
    "lstm = LSTM(\n",
    "    input_size=data_df.shape[1],\n",
    "    lstm_hid_size=200,\n",
    "    linear_hid_size=100,\n",
    "    output_horizon=5,\n",
    "    n_layers=1,\n",
    "    lr=1e-3\n",
    ")"
   ]
  },
  {
   "cell_type": "code",
   "execution_count": null,
   "metadata": {},
   "outputs": [],
   "source": [
    "lstm_trainer.fit(lstm, elec_dm)\n",
    "wandb_logger_lstm.experiment.finish()"
   ]
  },
  {
   "cell_type": "markdown",
   "metadata": {},
   "source": [
    "**Stacked LSTM**"
   ]
  },
  {
   "cell_type": "code",
   "execution_count": null,
   "metadata": {},
   "outputs": [],
   "source": [
    "wandb_logger_stacked_lstm = WandbLogger(\n",
    "    name=f'{run_name}-Stacked LSTM',\n",
    "    save_dir='logs',\n",
    "    project='Time-Series project',\n",
    "    log_model=True\n",
    ")\n",
    "\n",
    "stacked_lstm_trainer = pl.Trainer(\n",
    "    max_epochs=80,\n",
    "    accelerator='gpu',\n",
    "    strategy='auto',\n",
    "    devices=1,\n",
    "    logger=wandb_logger_stacked_lstm\n",
    ")"
   ]
  },
  {
   "cell_type": "code",
   "execution_count": null,
   "metadata": {},
   "outputs": [],
   "source": [
    "stacked_lstm = LSTM(\n",
    "    input_size=data_df.shape[1],\n",
    "    lstm_hid_size=200,\n",
    "    linear_hid_size=100,\n",
    "    output_horizon=5,\n",
    "    n_layers=1\n",
    ")"
   ]
  },
  {
   "cell_type": "code",
   "execution_count": null,
   "metadata": {},
   "outputs": [],
   "source": [
    "stacked_lstm_trainer.fit(stacked_lstm, elec_dm)\n",
    "wandb_logger_stacked_lstm.experiment.finish()"
   ]
  },
  {
   "cell_type": "markdown",
   "metadata": {},
   "source": [
    "**TPA-LSTM**"
   ]
  },
  {
   "cell_type": "code",
   "execution_count": null,
   "metadata": {},
   "outputs": [],
   "source": [
    "wandb_logger_tpalstm = WandbLogger(\n",
    "    name=f'{run_name}-TPA-LSTM-2-filters',\n",
    "    save_dir='logs',\n",
    "    project='Time-Series project',\n",
    "    log_model=True\n",
    ")\n",
    "\n",
    "tpalstm_trainer = pl.Trainer(\n",
    "    max_epochs=80,\n",
    "    # accelerator='gpu',\n",
    "    strategy='auto',\n",
    "    devices=1,\n",
    "    logger=wandb_logger_tpalstm\n",
    ")"
   ]
  },
  {
   "cell_type": "code",
   "execution_count": null,
   "metadata": {},
   "outputs": [],
   "source": [
    "tpa_lstm = TPALSTM(\n",
    "    input_size=data_df.shape[1],\n",
    "    output_horizon=1,\n",
    "    hidden_size=50,\n",
    "    output_horizon=5,\n",
    "    obs_len=24,\n",
    "    n_layers=2\n",
    ")"
   ]
  },
  {
   "cell_type": "code",
   "execution_count": null,
   "metadata": {},
   "outputs": [],
   "source": [
    "tpalstm_trainer.fit(tpa_lstm, elec_dm)\n",
    "wandb_logger_tpalstm.experiment.finish()"
   ]
  }
 ],
 "metadata": {
  "kernelspec": {
   "display_name": "Python 3 (ipykernel)",
   "language": "python",
   "name": "python3"
  },
  "language_info": {
   "codemirror_mode": {
    "name": "ipython",
    "version": 3
   },
   "file_extension": ".py",
   "mimetype": "text/x-python",
   "name": "python",
   "nbconvert_exporter": "python",
   "pygments_lexer": "ipython3",
   "version": "3.8.13"
  }
 },
 "nbformat": 4,
 "nbformat_minor": 2
}
