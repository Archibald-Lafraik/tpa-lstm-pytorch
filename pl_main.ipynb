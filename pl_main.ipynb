{
 "cells": [
  {
   "cell_type": "code",
   "execution_count": null,
   "metadata": {},
   "outputs": [],
   "source": [
    "%load_ext autoreload\n",
    "%autoreload 2\n",
    "\n",
    "import numpy as np\n",
    "import lightning.pytorch as pl\n",
    "from lightning.pytorch.loggers import WandbLogger\n",
    "from lightning.pytorch.callbacks import ModelCheckpoint\n",
    "\n",
    "import matplotlib.pyplot as plt\n",
    "\n",
    "from model import TPALSTM\n",
    "from other_models import LSTM\n",
    "import pandas as pd\n",
    "from dataset import ElectricityDataModule"
   ]
  },
  {
   "cell_type": "code",
   "execution_count": null,
   "metadata": {},
   "outputs": [],
   "source": [
    "data_df = np.load('data/kbest_dataset.npy')\n",
    "data_df.shape"
   ]
  },
  {
   "cell_type": "code",
   "execution_count": null,
   "metadata": {},
   "outputs": [],
   "source": [
    "data_splits = {\n",
    "    \"train\": 0.7,\n",
    "    \"val\": 0.15,\n",
    "    \"predict\": 0.15\n",
    "}\n",
    "\n",
    "pred_horizon = 4\n",
    "\n",
    "elec_dm = ElectricityDataModule(\n",
    "    dataset_splits=data_splits,\n",
    "    batch_size=256,\n",
    "    window_size=24,\n",
    "    pred_horizon=pred_horizon,\n",
    "    data_style=\"kbest\"\n",
    ")"
   ]
  },
  {
   "cell_type": "code",
   "execution_count": null,
   "metadata": {},
   "outputs": [],
   "source": [
    "run_name = f\"{pred_horizon}ts-kbest\""
   ]
  },
  {
   "cell_type": "markdown",
   "metadata": {},
   "source": [
    "**LSTM**"
   ]
  },
  {
   "cell_type": "code",
   "execution_count": null,
   "metadata": {},
   "outputs": [],
   "source": [
    "wandb_logger_lstm = WandbLogger(\n",
    "    name=f'{run_name}-LSTM',\n",
    "    save_dir='logs',\n",
    "    project='Time-Series project',\n",
    "    log_model=True\n",
    ")\n",
    "\n",
    "checkpoint_loss_lstm = ModelCheckpoint(\n",
    "    dirpath=f\"checkpoints/{run_name}/LSTM\",\n",
    "    filename='BEST-{epoch}-{val_loss:.3f}-{val_score:.3f}',\n",
    "    save_top_k=1,\n",
    "    monitor=\"val/loss\",\n",
    "    mode=\"min\"\n",
    ")\n",
    "\n",
    "lstm_trainer = pl.Trainer(\n",
    "    max_epochs=80,\n",
    "    # accelerator='gpu',\n",
    "    callbacks=[checkpoint_loss_lstm],\n",
    "    devices=1,\n",
    "    logger=wandb_logger_lstm,\n",
    ")"
   ]
  },
  {
   "cell_type": "code",
   "execution_count": null,
   "metadata": {},
   "outputs": [],
   "source": [
    "lstm = LSTM(\n",
    "    input_size=data_df.shape[1],\n",
    "    lstm_hid_size=200,\n",
    "    linear_hid_size=100,\n",
    "    output_horizon=pred_horizon,\n",
    "    n_layers=1,\n",
    "    lr=1e-3\n",
    ")"
   ]
  },
  {
   "cell_type": "code",
   "execution_count": null,
   "metadata": {},
   "outputs": [],
   "source": [
    "lstm_trainer.fit(lstm, elec_dm)\n",
    "wandb_logger_lstm.experiment.finish()"
   ]
  },
  {
   "cell_type": "code",
   "execution_count": null,
   "metadata": {},
   "outputs": [],
   "source": [
    "elec_dm.setup(\"predict\")\n",
    "\n",
    "model_path = \"checkpoints/4ts-kbest/LSTM/BEST-epoch=79-val_loss=0.000-val_score=0.000-v1.ckpt\"\n",
    "lstm = LSTM.load_from_checkpoint(model_path)\n",
    "\n",
    "pred_dl = elec_dm.predict_dataloader()\n",
    "\n",
    "y_pred = lstm_trainer.predict(lstm, pred_dl)"
   ]
  },
  {
   "cell_type": "code",
   "execution_count": null,
   "metadata": {},
   "outputs": [],
   "source": [
    "batch_idx = 0\n",
    "for i, batch in enumerate(pred_dl):\n",
    "    inputs, labels = batch\n",
    "    X, ytrue = inputs[batch_idx][:, -1], labels[batch_idx].squeeze()\n",
    "    ypred = y_pred[i][batch_idx].squeeze()\n",
    "    \n",
    "    X = X.cpu().numpy()\n",
    "    ytrue = ytrue.cpu().numpy()\n",
    "    ypred = ypred.cpu().numpy()\n",
    "    # print(inputs.shape)\n",
    "    # print(labels.shape, y_pred[i].shape)\n",
    "\n",
    "    plt.figure(figsize=(15, 5))\n",
    "    plt.plot(range(0, 24), X, label=\"Input\")\n",
    "    plt.scatter(range(24, 24 + pred_horizon), ytrue, color='red', label=\"True price\")\n",
    "    plt.scatter(range(24, 24 + pred_horizon), ypred, color='green', label=\"Predicted price\")\n",
    "    plt.legend()\n",
    "    plt.title(\"LSTM\")\n",
    "    plt.show()\n",
    "\n",
    "    if i == 3:\n",
    "        break"
   ]
  },
  {
   "cell_type": "markdown",
   "metadata": {},
   "source": [
    "**Stacked LSTM**"
   ]
  },
  {
   "cell_type": "code",
   "execution_count": null,
   "metadata": {},
   "outputs": [],
   "source": [
    "wandb_logger_stacked_lstm = WandbLogger(\n",
    "    name=f'{run_name}-Stacked LSTM',\n",
    "    save_dir='logs',\n",
    "    project='Time-Series project',\n",
    "    log_model=True\n",
    ")\n",
    "\n",
    "checkpoint_loss_stacked_lstm = ModelCheckpoint(\n",
    "    dirpath=f\"checkpoints/{run_name}/Stacked-LSTM\",\n",
    "    filename='BEST-{epoch}-{val_loss:.3f}-{val_score:.3f}',\n",
    "    save_top_k=1,\n",
    "    monitor=\"val/loss\",\n",
    "    mode=\"min\"\n",
    ")\n",
    "\n",
    "stacked_lstm_trainer = pl.Trainer(\n",
    "    max_epochs=80,\n",
    "    accelerator='gpu',\n",
    "    callbacks=[checkpoint_loss_stacked_lstm],\n",
    "    strategy='auto',\n",
    "    devices=1,\n",
    "    logger=wandb_logger_stacked_lstm\n",
    ")"
   ]
  },
  {
   "cell_type": "code",
   "execution_count": null,
   "metadata": {},
   "outputs": [],
   "source": [
    "stacked_lstm = LSTM(\n",
    "    input_size=data_df.shape[1],\n",
    "    lstm_hid_size=200,\n",
    "    linear_hid_size=100,\n",
    "    output_horizon=pred_horizon,\n",
    "    n_layers=2\n",
    ")"
   ]
  },
  {
   "cell_type": "code",
   "execution_count": null,
   "metadata": {},
   "outputs": [],
   "source": [
    "stacked_lstm_trainer.fit(stacked_lstm, elec_dm)\n",
    "wandb_logger_stacked_lstm.experiment.finish()"
   ]
  },
  {
   "cell_type": "code",
   "execution_count": null,
   "metadata": {},
   "outputs": [],
   "source": [
    "elec_dm.setup(\"predict\")\n",
    "\n",
    "model_path = \"checkpoints/4ts-kbest/Stacked-LSTM/\"\n",
    "stacked_lstm = LSTM.load_from_checkpoint(model_path)\n",
    "\n",
    "pred_dl = elec_dm.predict_dataloader()\n",
    "\n",
    "y_pred = stacked_lstm_trainer.predict(stacked_lstm, pred_dl)"
   ]
  },
  {
   "cell_type": "code",
   "execution_count": null,
   "metadata": {},
   "outputs": [],
   "source": [
    "batch_idx = 0\n",
    "for i, batch in enumerate(pred_dl):\n",
    "    inputs, labels = batch\n",
    "    X, ytrue = inputs[batch_idx][:, -1], labels[batch_idx].squeeze()\n",
    "    ypred = y_pred[i][batch_idx].squeeze()\n",
    "    \n",
    "    X = X.cpu().numpy()\n",
    "    ytrue = ytrue.cpu().numpy()\n",
    "    ypred = ypred.cpu().numpy()\n",
    "    # print(inputs.shape)\n",
    "    # print(labels.shape, y_pred[i].shape)\n",
    "\n",
    "    plt.figure(figsize=(15, 5))\n",
    "    plt.plot(range(0, 24), X, label=\"Input\")\n",
    "    plt.scatter(range(24, 24 + pred_horizon), ytrue, color='red', label=\"True price\")\n",
    "    plt.scatter(range(24, 24 + pred_horizon), ypred, color='green', label=\"Predicted price\")\n",
    "    plt.legend()\n",
    "    plt.title(\"Stacked-LSTM\")\n",
    "    plt.show()\n",
    "\n",
    "    if i == 3:\n",
    "        break"
   ]
  },
  {
   "cell_type": "markdown",
   "metadata": {},
   "source": [
    "**TPA-LSTM**"
   ]
  },
  {
   "cell_type": "code",
   "execution_count": null,
   "metadata": {},
   "outputs": [],
   "source": [
    "wandb_logger_tpalstm = WandbLogger(\n",
    "    name=f'{run_name}-TPA-LSTM',\n",
    "    save_dir='logs',\n",
    "    project='Time-Series project',\n",
    "    log_model=True\n",
    ")\n",
    "\n",
    "checkpoint_loss_tpalstm = ModelCheckpoint(\n",
    "    dirpath=f\"checkpoints/{run_name}/TPA-LSTM\",\n",
    "    filename='BEST-{epoch}-{val_loss:.3f}-{val_score:.3f}',\n",
    "    save_top_k=1,\n",
    "    monitor=\"val/loss\",\n",
    "    mode=\"min\"\n",
    ")\n",
    "\n",
    "tpalstm_trainer = pl.Trainer(\n",
    "    max_epochs=80,\n",
    "    # accelerator='gpu',\n",
    "    callbacks=[checkpoint_loss_tpalstm]\n",
    "    strategy='auto',\n",
    "    devices=1,\n",
    "    logger=wandb_logger_tpalstm\n",
    ")"
   ]
  },
  {
   "cell_type": "code",
   "execution_count": null,
   "metadata": {},
   "outputs": [],
   "source": [
    "tpa_lstm = TPALSTM(\n",
    "    input_size=data_df.shape[1],\n",
    "    hidden_size=50,\n",
    "    output_horizon=pred_horizon,\n",
    "    obs_len=24,\n",
    "    n_layers=2\n",
    ")"
   ]
  },
  {
   "cell_type": "code",
   "execution_count": null,
   "metadata": {},
   "outputs": [],
   "source": [
    "tpalstm_trainer.fit(tpa_lstm, elec_dm)\n",
    "wandb_logger_tpalstm.experiment.finish()"
   ]
  },
  {
   "cell_type": "code",
   "execution_count": null,
   "metadata": {},
   "outputs": [],
   "source": [
    "elec_dm.setup(\"predict\")\n",
    "\n",
    "model_path = \"checkpoints/4ts-kbest/TPA-LSTM/\"\n",
    "tpa_lstm = TPALSTM.load_from_checkpoint(model_path)\n",
    "\n",
    "pred_dl = elec_dm.predict_dataloader()\n",
    "\n",
    "y_pred = tpalstm_trainer.predict(tpa_lstm, pred_dl)"
   ]
  },
  {
   "cell_type": "code",
   "execution_count": null,
   "metadata": {},
   "outputs": [],
   "source": [
    "batch_idx = 0\n",
    "for i, batch in enumerate(pred_dl):\n",
    "    inputs, labels = batch\n",
    "    X, ytrue = inputs[batch_idx][:, -1], labels[batch_idx].squeeze()\n",
    "    ypred = y_pred[i][batch_idx].squeeze()\n",
    "    \n",
    "    X = X.cpu().numpy()\n",
    "    ytrue = ytrue.cpu().numpy()\n",
    "    ypred = ypred.cpu().numpy()\n",
    "    # print(inputs.shape)\n",
    "    # print(labels.shape, y_pred[i].shape)\n",
    "\n",
    "    plt.figure(figsize=(15, 5))\n",
    "    plt.plot(range(0, 24), X, label=\"Input\")\n",
    "    plt.scatter(range(24, 24 + pred_horizon), ytrue, color='red', label=\"True price\")\n",
    "    plt.scatter(range(24, 24 + pred_horizon), ypred, color='green', label=\"Predicted price\")\n",
    "    plt.legend()\n",
    "    plt.title(\"TPA-LSTM\")\n",
    "    plt.show()\n",
    "\n",
    "    if i == 3:\n",
    "        break"
   ]
  }
 ],
 "metadata": {
  "kernelspec": {
   "display_name": "Python 3 (ipykernel)",
   "language": "python",
   "name": "python3"
  },
  "language_info": {
   "codemirror_mode": {
    "name": "ipython",
    "version": 3
   },
   "file_extension": ".py",
   "mimetype": "text/x-python",
   "name": "python",
   "nbconvert_exporter": "python",
   "pygments_lexer": "ipython3",
   "version": "3.8.5"
  }
 },
 "nbformat": 4,
 "nbformat_minor": 2
}
